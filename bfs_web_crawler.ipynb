{
 "cells": [
  {
   "cell_type": "code",
   "execution_count": 1,
   "id": "6bf5918c-b217-4d20-b2fa-e5730902c59a",
   "metadata": {
    "id": "6bf5918c-b217-4d20-b2fa-e5730902c59a"
   },
   "outputs": [],
   "source": [
    "\n",
    "from bs4 import BeautifulSoup\n",
    "import requests\n",
    "import re\n",
    "import time\n",
    "import json\n",
    "from bbc import BBC"
   ]
  },
  {
   "cell_type": "code",
   "execution_count": 2,
   "id": "measured-champagne",
   "metadata": {
    "id": "measured-champagne"
   },
   "outputs": [
    {
     "name": "stdout",
     "output_type": "stream",
     "text": [
      "{\n",
      "  \"https://www.bbc.com/\": [\n",
      "    \"https://www.bbc.com/news\",\n",
      "    \"https://www.bbc.com/sport\",\n",
      "    \"https://www.bbc.com/reel\",\n",
      "    \"https://www.bbc.com/worklife\",\n",
      "    \"https://www.bbc.com/travel\"\n",
      "  ],\n",
      "  \"https://www.bbc.com/news\": [\n",
      "    \"https://www.bbc.com/news/world-60525350\",\n",
      "    \"https://www.bbc.com/news/coronavirus\",\n",
      "    \"https://www.bbc.com/news/science-environment-56837908\"\n",
      "  ],\n",
      "  \"https://www.bbc.com/sport\": [\n",
      "    \"https://www.bbc.com/sport/all-sports\",\n",
      "    \"https://www.bbc.com/sport/football\",\n",
      "    \"https://www.bbc.com/sport/cricket\",\n",
      "    \"https://www.bbc.com/sport/formula1\",\n",
      "    \"https://www.bbc.com/sport/rugby-union\"\n",
      "  ],\n",
      "  \"https://www.bbc.com/reel\": [\n",
      "    \"https://www.bbc.com/reel/\",\n",
      "    \"https://www.bbc.com/reel/longshots\",\n",
      "    \"https://www.bbc.com/reel/playlists\"\n",
      "  ],\n",
      "  \"https://www.bbc.com/worklife\": [\n",
      "    \"https://www.bbc.com/worklife/lovelife\"\n",
      "  ],\n",
      "  \"https://www.bbc.com/travel\": [\n",
      "    \"https://www.bbc.com/travel/destinations\"\n",
      "  ],\n",
      "  \"https://www.bbc.com/news/world-60525350\": [],\n",
      "  \"https://www.bbc.com/news/coronavirus\": [],\n",
      "  \"https://www.bbc.com/news/science-environment-56837908\": [],\n",
      "  \"https://www.bbc.com/sport/all-sports\": [],\n",
      "  \"https://www.bbc.com/sport/football\": [],\n",
      "  \"https://www.bbc.com/sport/cricket\": [],\n",
      "  \"https://www.bbc.com/sport/formula1\": [],\n",
      "  \"https://www.bbc.com/sport/rugby-union\": [],\n",
      "  \"https://www.bbc.com/reel/\": [],\n",
      "  \"https://www.bbc.com/reel/longshots\": [],\n",
      "  \"https://www.bbc.com/reel/playlists\": [],\n",
      "  \"https://www.bbc.com/worklife/lovelife\": [],\n",
      "  \"https://www.bbc.com/travel/destinations\": []\n",
      "}\n"
     ]
    }
   ],
   "source": [
    "bbc = BBC()\n",
    "bbc.make_graph()\n",
    "print(json.dumps(bbc.adjacencyList, indent=2))"
   ]
  },
  {
   "cell_type": "code",
   "execution_count": 3,
   "id": "instructional-purse",
   "metadata": {
    "colab": {
     "base_uri": "https://localhost:8080/"
    },
    "id": "instructional-purse",
    "outputId": "ec019665-b345-4a9d-b5ec-021db8c45281"
   },
   "outputs": [
    {
     "name": "stdout",
     "output_type": "stream",
     "text": [
      "{\n",
      "  \"https://www.bbc.com/news/world-60525350\": [\n",
      "    \"Russia plans to take southern Ukraine - commander\",\n",
      "    \"Ukraine invasion only the beginning, Zelensky warns\",\n",
      "    \"Ukraine invasion only the beginning, Zelensky warns\",\n",
      "    \"Videos appear to show dead civilians in Mariupol\",\n",
      "    \"Khodorkovsky: Oil ban would deal Putin serious blow\",\n",
      "    \"How Moscow is changing because of Ukraine\",\n",
      "    \"UK embassy in Kyiv to reopen next week, says PM\",\n",
      "    \"Captured Briton's interview removed from YouTube\",\n",
      "    \"Russia plans to take southern Ukraine - commander\",\n",
      "    \"Ukraine invasion only the beginning, Zelensky warns\",\n",
      "    \"Ukraine invasion only the beginning, Zelensky warns\",\n",
      "    \"Videos appear to show dead civilians in Mariupol\",\n",
      "    \"Khodorkovsky: Oil ban would deal Putin serious blow\",\n",
      "    \"How Moscow is changing because of Ukraine\"\n",
      "  ],\n",
      "  \"https://www.bbc.com/news/coronavirus\": [\n",
      "    \"Longest known Covid infection was record 505 days\",\n",
      "    \"Why are so many people catching Covid again?\",\n",
      "    \"Woman caught Covid twice within record 20 days\",\n",
      "    \"India school meal plan struggles to feed children\",\n",
      "    \"Whole communities forced to move in Shanghai's war on Covid\",\n",
      "    \"US judge throws out Biden's traveller mask mandate\",\n",
      "    \"China reports first Covid deaths in Shanghai\",\n",
      "    \"Longest known Covid infection was record 505 days\",\n",
      "    \"Why are so many people catching Covid again?\",\n",
      "    \"Woman caught Covid twice within record 20 days\",\n",
      "    \"India school meal plan struggles to feed children\",\n",
      "    \"Whole communities forced to move in Shanghai's war on Covid\",\n",
      "    \"US judge throws out Biden's traveller mask mandate\",\n",
      "    \"China reports first Covid deaths in Shanghai\"\n",
      "  ],\n",
      "  \"https://www.bbc.com/news/science-environment-56837908\": [\n",
      "    \"Attenborough named 'Champion of the Earth' by UN\",\n",
      "    \"Climate change and farming driving insect decline\",\n",
      "    \"'We're making wine in Norway as climate changes'\",\n",
      "    \"Cavers get judge to halt work on Mexico's Maya train\",\n",
      "    \"Key UN climate finding widely misinterpreted\",\n",
      "    \"Coral reefs mapped to tackle climate change threat\",\n",
      "    \"COP26 promises will hold warming under 2C\",\n",
      "    \"Attenborough named 'Champion of the Earth' by UN\",\n",
      "    \"Climate change and farming driving insect decline\",\n",
      "    \"'We're making wine in Norway as climate changes'\",\n",
      "    \"Cavers get judge to halt work on Mexico's Maya train\",\n",
      "    \"Key UN climate finding widely misinterpreted\",\n",
      "    \"Coral reefs mapped to tackle climate change threat\",\n",
      "    \"COP26 promises will hold warming under 2C\"\n",
      "  ],\n",
      "  \"https://www.bbc.com/sport/football\": [\n",
      "    \"Valencia's Soler attracting Premier League's elite\",\n",
      "    \"Man Utd need 'open heart operation' - Rangnick\",\n",
      "    \"Arsenal in talks with Jesus - Saturday's gossip\",\n",
      "    \"Haaland 'very close' to Man City deal - Balague\",\n",
      "    \"Can English football follow record Barca crowds?\",\n",
      "    \"Injured Pogba set to miss rest of Man Utd season\",\n",
      "    \"Lampard would 'of course' take draw at Liverpool\",\n",
      "    \"Safe standing interim report 'very encouraging'\",\n",
      "    \"Barnsley relegated after defeat at Huddersfield\",\n",
      "    \"West Ham down to one centre-back before Euro semi\",\n",
      "    \"'Three years for Ten Hag to have an impact'\",\n",
      "    \"Which teams are set to win Europe's leagues?\",\n",
      "    \"Check out the latest women's football news\",\n",
      "    \"How one of Europe's fiercest rivalries evolved\"\n",
      "  ],\n",
      "  \"https://www.bbc.com/sport/cricket\": [\n",
      "    \"Burgess ton helps Bears get on top against Essex\",\n",
      "    \"Yorkshire take command against Northants\",\n",
      "    \"Bohannon ton gives Lancs control against Gloucs\",\n",
      "    \"Stylish Vince puts Hampshire on top against Kent\",\n",
      "    \"Foakes and Pope lead Surrey rally against Somerset\",\n",
      "    \"Masood continues incredible form for Derbyshire\",\n",
      "    \"Root named Wisden's leading cricketer in the world\",\n",
      "    \"Dhoni steers Chennai Super Kings to victory over Mumbai Indians - IPL scorecard\",\n",
      "    \"West Indies' Pollard retires from internationals\",\n",
      "    \"Tailenders podcast: Ch Ch Changes\",\n",
      "    \"Stumped podcast: Root - Wisden and his rollercoaster year\",\n",
      "    \"TMS podcast: Joe Root named Leading Cricketer in the World\",\n",
      "    \"Delhi Capitals hammer Punjab Kings - IPL scorecard\",\n",
      "    \"The right decision for Root and England - Agnew\"\n",
      "  ],\n",
      "  \"https://www.bbc.com/sport/formula1\": [\n",
      "    \"Emilia Romagna GP recap: Verstappen takes sprint pole; Hamilton 13th\",\n",
      "    \"Leclerc fastest as Ferrari dominate wet practice\",\n",
      "    \"Would be 'dream' to be part of Chelsea - Hamilton\",\n",
      "    \"Leclerc & Verstappen 'hated each other' in karting\",\n",
      "    \"Sainz signs new Ferrari contract until 2024\",\n",
      "    \"How to follow the Emilia Romagna GP on the BBC\",\n",
      "    \"Can 'controlled' Leclerc be caught by misfiring rivals?\",\n",
      "    \"'Crazy' to be second in championship - Russell\",\n",
      "    \"Leclerc wins in Australia as Verstappen retires\",\n",
      "    \"Chequered Flag podcast: Australian Grand Prix review\",\n",
      "    \"Hamilton 'does not enjoy' driving new Mercedes\",\n",
      "    \"Leclerc beats Verstappen to pole in Australia\",\n",
      "    \"Nikita Mazepin to fight 'cancel culture' sanctions\",\n",
      "    \"'Cat-and-mouse racing at its best as Leclerc & Verstappen's rivalry solidifies'\"\n",
      "  ],\n",
      "  \"https://www.bbc.com/sport/rugby-union\": [\n",
      "    \"Bristol snatch late win over rivals Gloucester\",\n",
      "    \"From Cyprus to centurion - Scarratt hits 100 mark\",\n",
      "    \"Munster punish lacklustre Ulster in Belfast\",\n",
      "    \"Six-try Irish comfortably see off Newcastle\",\n",
      "    \"Glasgow lose as Stormers secure bonus point in URC\",\n",
      "    \"Rugby Union Weekly podcast: Record crowds and a huge test for Ireland\",\n",
      "    \"England's Scarratt to win 100th cap in home town\",\n",
      "    \"Simmonds in doubt for England's Australia tour\",\n",
      "    \"Ireland centre Henshaw extends contract to 2025\",\n",
      "    \"Ealing withdraw appeal against Premiership ruling\",\n",
      "    \"Bath v Northampton Saints (Sat)\",\n",
      "    \"Harlequins v Leicester (Sat)\",\n",
      "    \"Wasps v Worcester (Sat)\",\n",
      "    \"Wales v Ireland to open 2023 Six Nations\"\n",
      "  ],\n",
      "  \"https://www.bbc.com/reel/playlists\": [\n",
      "    \"Architecture\",\n",
      "    \"Naked Truth\",\n",
      "    \"Obsessions\",\n",
      "    \"The Truth of the Matter\",\n",
      "    \"A Taste of the City\",\n",
      "    \"DHL: Connecting Stories\",\n",
      "    \"Black History Month\",\n",
      "    \"Russian Sagas\",\n",
      "    \"Follow the Food: Series 3\",\n",
      "    \"Living Climate Change\"\n",
      "  ]\n",
      "}\n"
     ]
    }
   ],
   "source": [
    "\n",
    "headlines = bbc.bfs()\n",
    "print(json.dumps(headlines, indent=2))"
   ]
  },
  {
   "cell_type": "code",
   "execution_count": null,
   "id": "ae6b7f86-5383-4ede-9df0-60d19e82fa1e",
   "metadata": {},
   "outputs": [],
   "source": []
  },
  {
   "cell_type": "code",
   "execution_count": null,
   "id": "_vIYUv2KYas4",
   "metadata": {
    "colab": {
     "base_uri": "https://localhost:8080/"
    },
    "id": "_vIYUv2KYas4",
    "outputId": "5624f5d3-0aab-462d-d775-b1b7a614218d"
   },
   "outputs": [],
   "source": []
  },
  {
   "cell_type": "code",
   "execution_count": null,
   "id": "0d702be5-d9de-4bd1-b745-a667366d97bd",
   "metadata": {
    "id": "0d702be5-d9de-4bd1-b745-a667366d97bd"
   },
   "outputs": [],
   "source": []
  },
  {
   "cell_type": "code",
   "execution_count": null,
   "id": "7f333b4b-25b0-4656-9dd4-59ae8180258c",
   "metadata": {
    "colab": {
     "base_uri": "https://localhost:8080/"
    },
    "id": "7f333b4b-25b0-4656-9dd4-59ae8180258c",
    "outputId": "f18edae9-1c7b-472d-c9f3-0b5421fc9c23"
   },
   "outputs": [],
   "source": []
  },
  {
   "cell_type": "code",
   "execution_count": null,
   "id": "6RpfnUbRVjxw",
   "metadata": {
    "colab": {
     "base_uri": "https://localhost:8080/"
    },
    "id": "6RpfnUbRVjxw",
    "outputId": "8d2b2c4c-e393-491b-efe2-113d5ffa944a"
   },
   "outputs": [],
   "source": []
  },
  {
   "cell_type": "code",
   "execution_count": null,
   "id": "mxgtie1bfuUn",
   "metadata": {
    "colab": {
     "base_uri": "https://localhost:8080/",
     "height": 289
    },
    "id": "mxgtie1bfuUn",
    "outputId": "cb97e6fa-4fd6-422a-9615-6bea9bef7d60"
   },
   "outputs": [],
   "source": []
  }
 ],
 "metadata": {
  "colab": {
   "collapsed_sections": [],
   "name": "bfs_web_crawler.ipynb",
   "provenance": []
  },
  "kernelspec": {
   "display_name": "test",
   "language": "python",
   "name": "test"
  },
  "language_info": {
   "codemirror_mode": {
    "name": "ipython",
    "version": 3
   },
   "file_extension": ".py",
   "mimetype": "text/x-python",
   "name": "python",
   "nbconvert_exporter": "python",
   "pygments_lexer": "ipython3",
   "version": "3.9.10"
  }
 },
 "nbformat": 4,
 "nbformat_minor": 5
}
