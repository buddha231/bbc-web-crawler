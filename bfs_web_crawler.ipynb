{
 "cells": [
  {
   "cell_type": "code",
   "execution_count": 1,
   "id": "6bf5918c-b217-4d20-b2fa-e5730902c59a",
   "metadata": {
    "id": "6bf5918c-b217-4d20-b2fa-e5730902c59a"
   },
   "outputs": [],
   "source": [
    "\n",
    "from bs4 import BeautifulSoup\n",
    "import requests\n",
    "import re\n",
    "import time\n",
    "import json"
   ]
  },
  {
   "cell_type": "code",
   "execution_count": 27,
   "id": "measured-champagne",
   "metadata": {
    "id": "measured-champagne"
   },
   "outputs": [],
   "source": [
    "def crawl_sub_categories(cat_link, cat_name):\n",
    "    \"\"\" crawls the cat_link to return a dictionary containing\n",
    "    the subcategories and their link\n",
    "    \"\"\"\n",
    "\n",
    "    html_doc = requests.get(cat_link)\n",
    "    soup = BeautifulSoup(html_doc.text, 'html.parser')\n",
    "    subcat = soup.find_all(\"a\" ,{\"href\":re.compile(f\"/{cat_name}\")})[1:10]\n",
    "    subcat = [i for i in subcat if i]\n",
    "    def is_short(string):\n",
    "        length = len(string.split(\"/\"))\n",
    "        if length == 3 :\n",
    "            return True\n",
    "        return False\n",
    "\n",
    "    subcat1 = [cat_link.split(cat_name)[0][:-1]+i['href']  for i in subcat if is_short(i[\"href\"])]\n",
    "\n",
    "    # _set = set(subcat1)\n",
    "    # return list(_set)[0:4]\n",
    "    return subcat1\n",
    "#     subcatt = dict()\n",
    "#     for _ in subcat1:\n",
    "#         if _[\"href\"] in _set:\n",
    "#             continue\n",
    "#         else:\n",
    "#             _set.add(_[\"href\"])\n",
    "#             subcatt[_.text] = _[\"href\"]\n",
    "#     a = 0\n",
    "#     __ = dict()\n",
    "#     for key in subcatt:\n",
    "#         if a < 5 :\n",
    "#             __[key] = cat_link.split(cat_name)[0][:-1]+subcatt[key]\n",
    "        \n",
    "#         a+=1\n",
    "#     return __\n",
    "        \n",
    "\n",
    "\n"
   ]
  },
  {
   "cell_type": "code",
   "execution_count": 25,
   "id": "instructional-purse",
   "metadata": {
    "colab": {
     "base_uri": "https://localhost:8080/"
    },
    "id": "instructional-purse",
    "outputId": "ec019665-b345-4a9d-b5ec-021db8c45281"
   },
   "outputs": [
    {
     "ename": "KeyboardInterrupt",
     "evalue": "",
     "output_type": "error",
     "traceback": [
      "\u001b[0;31m---------------------------------------------------------------------------\u001b[0m",
      "\u001b[0;31mKeyboardInterrupt\u001b[0m                         Traceback (most recent call last)",
      "\u001b[0;32m/tmp/ipykernel_23332/1438187091.py\u001b[0m in \u001b[0;36m<module>\u001b[0;34m\u001b[0m\n\u001b[1;32m      8\u001b[0m \u001b[0mend_nodes\u001b[0m \u001b[0;34m=\u001b[0m \u001b[0mdict\u001b[0m\u001b[0;34m(\u001b[0m\u001b[0;34m)\u001b[0m\u001b[0;34m\u001b[0m\u001b[0;34m\u001b[0m\u001b[0m\n\u001b[1;32m      9\u001b[0m \u001b[0;32mfor\u001b[0m \u001b[0mcategory\u001b[0m \u001b[0;32min\u001b[0m \u001b[0mcategories\u001b[0m \u001b[0;34m:\u001b[0m\u001b[0;34m\u001b[0m\u001b[0;34m\u001b[0m\u001b[0m\n\u001b[0;32m---> 10\u001b[0;31m     \u001b[0msubcategories\u001b[0m \u001b[0;34m=\u001b[0m \u001b[0mcrawl_sub_categories\u001b[0m\u001b[0;34m(\u001b[0m\u001b[0mcategory\u001b[0m\u001b[0;34m[\u001b[0m\u001b[0;34m\"href\"\u001b[0m\u001b[0;34m]\u001b[0m\u001b[0;34m,\u001b[0m \u001b[0mcategory\u001b[0m\u001b[0;34m.\u001b[0m\u001b[0mspan\u001b[0m\u001b[0;34m.\u001b[0m\u001b[0mtext\u001b[0m\u001b[0;34m.\u001b[0m\u001b[0mlower\u001b[0m\u001b[0;34m(\u001b[0m\u001b[0;34m)\u001b[0m\u001b[0;34m)\u001b[0m\u001b[0;34m\u001b[0m\u001b[0;34m\u001b[0m\u001b[0m\n\u001b[0m\u001b[1;32m     11\u001b[0m     \u001b[0mnested_map\u001b[0m\u001b[0;34m[\u001b[0m\u001b[0mcategory\u001b[0m\u001b[0;34m[\u001b[0m\u001b[0;34m\"href\"\u001b[0m\u001b[0;34m]\u001b[0m\u001b[0;34m]\u001b[0m \u001b[0;34m=\u001b[0m \u001b[0msubcategories\u001b[0m\u001b[0;34m\u001b[0m\u001b[0;34m\u001b[0m\u001b[0m\n\u001b[1;32m     12\u001b[0m     \u001b[0mnested_map\u001b[0m\u001b[0;34m[\u001b[0m\u001b[0mbase_url\u001b[0m\u001b[0;34m]\u001b[0m\u001b[0;34m.\u001b[0m\u001b[0mappend\u001b[0m\u001b[0;34m(\u001b[0m\u001b[0mcategory\u001b[0m\u001b[0;34m[\u001b[0m\u001b[0;34m\"href\"\u001b[0m\u001b[0;34m]\u001b[0m\u001b[0;34m)\u001b[0m\u001b[0;34m\u001b[0m\u001b[0;34m\u001b[0m\u001b[0m\n",
      "\u001b[0;32m/tmp/ipykernel_23332/2348820675.py\u001b[0m in \u001b[0;36mcrawl_sub_categories\u001b[0;34m(cat_link, cat_name)\u001b[0m\n\u001b[1;32m      4\u001b[0m     \"\"\"\n\u001b[1;32m      5\u001b[0m \u001b[0;34m\u001b[0m\u001b[0m\n\u001b[0;32m----> 6\u001b[0;31m     \u001b[0mhtml_doc\u001b[0m \u001b[0;34m=\u001b[0m \u001b[0mrequests\u001b[0m\u001b[0;34m.\u001b[0m\u001b[0mget\u001b[0m\u001b[0;34m(\u001b[0m\u001b[0mcat_link\u001b[0m\u001b[0;34m)\u001b[0m\u001b[0;34m\u001b[0m\u001b[0;34m\u001b[0m\u001b[0m\n\u001b[0m\u001b[1;32m      7\u001b[0m     \u001b[0msoup\u001b[0m \u001b[0;34m=\u001b[0m \u001b[0mBeautifulSoup\u001b[0m\u001b[0;34m(\u001b[0m\u001b[0mhtml_doc\u001b[0m\u001b[0;34m.\u001b[0m\u001b[0mtext\u001b[0m\u001b[0;34m,\u001b[0m \u001b[0;34m'html.parser'\u001b[0m\u001b[0;34m)\u001b[0m\u001b[0;34m\u001b[0m\u001b[0;34m\u001b[0m\u001b[0m\n\u001b[1;32m      8\u001b[0m     \u001b[0msubcat\u001b[0m \u001b[0;34m=\u001b[0m \u001b[0msoup\u001b[0m\u001b[0;34m.\u001b[0m\u001b[0mfind_all\u001b[0m\u001b[0;34m(\u001b[0m\u001b[0;34m\"a\"\u001b[0m \u001b[0;34m,\u001b[0m\u001b[0;34m{\u001b[0m\u001b[0;34m\"href\"\u001b[0m\u001b[0;34m:\u001b[0m\u001b[0mre\u001b[0m\u001b[0;34m.\u001b[0m\u001b[0mcompile\u001b[0m\u001b[0;34m(\u001b[0m\u001b[0;34mf\"/{cat_name}\"\u001b[0m\u001b[0;34m)\u001b[0m\u001b[0;34m}\u001b[0m\u001b[0;34m)\u001b[0m\u001b[0;34m\u001b[0m\u001b[0;34m\u001b[0m\u001b[0m\n",
      "\u001b[0;32m~/Environments/test/lib/python3.9/site-packages/requests/api.py\u001b[0m in \u001b[0;36mget\u001b[0;34m(url, params, **kwargs)\u001b[0m\n\u001b[1;32m     73\u001b[0m     \"\"\"\n\u001b[1;32m     74\u001b[0m \u001b[0;34m\u001b[0m\u001b[0m\n\u001b[0;32m---> 75\u001b[0;31m     \u001b[0;32mreturn\u001b[0m \u001b[0mrequest\u001b[0m\u001b[0;34m(\u001b[0m\u001b[0;34m'get'\u001b[0m\u001b[0;34m,\u001b[0m \u001b[0murl\u001b[0m\u001b[0;34m,\u001b[0m \u001b[0mparams\u001b[0m\u001b[0;34m=\u001b[0m\u001b[0mparams\u001b[0m\u001b[0;34m,\u001b[0m \u001b[0;34m**\u001b[0m\u001b[0mkwargs\u001b[0m\u001b[0;34m)\u001b[0m\u001b[0;34m\u001b[0m\u001b[0;34m\u001b[0m\u001b[0m\n\u001b[0m\u001b[1;32m     76\u001b[0m \u001b[0;34m\u001b[0m\u001b[0m\n\u001b[1;32m     77\u001b[0m \u001b[0;34m\u001b[0m\u001b[0m\n",
      "\u001b[0;32m~/Environments/test/lib/python3.9/site-packages/requests/api.py\u001b[0m in \u001b[0;36mrequest\u001b[0;34m(method, url, **kwargs)\u001b[0m\n\u001b[1;32m     59\u001b[0m     \u001b[0;31m# cases, and look like a memory leak in others.\u001b[0m\u001b[0;34m\u001b[0m\u001b[0;34m\u001b[0m\u001b[0m\n\u001b[1;32m     60\u001b[0m     \u001b[0;32mwith\u001b[0m \u001b[0msessions\u001b[0m\u001b[0;34m.\u001b[0m\u001b[0mSession\u001b[0m\u001b[0;34m(\u001b[0m\u001b[0;34m)\u001b[0m \u001b[0;32mas\u001b[0m \u001b[0msession\u001b[0m\u001b[0;34m:\u001b[0m\u001b[0;34m\u001b[0m\u001b[0;34m\u001b[0m\u001b[0m\n\u001b[0;32m---> 61\u001b[0;31m         \u001b[0;32mreturn\u001b[0m \u001b[0msession\u001b[0m\u001b[0;34m.\u001b[0m\u001b[0mrequest\u001b[0m\u001b[0;34m(\u001b[0m\u001b[0mmethod\u001b[0m\u001b[0;34m=\u001b[0m\u001b[0mmethod\u001b[0m\u001b[0;34m,\u001b[0m \u001b[0murl\u001b[0m\u001b[0;34m=\u001b[0m\u001b[0murl\u001b[0m\u001b[0;34m,\u001b[0m \u001b[0;34m**\u001b[0m\u001b[0mkwargs\u001b[0m\u001b[0;34m)\u001b[0m\u001b[0;34m\u001b[0m\u001b[0;34m\u001b[0m\u001b[0m\n\u001b[0m\u001b[1;32m     62\u001b[0m \u001b[0;34m\u001b[0m\u001b[0m\n\u001b[1;32m     63\u001b[0m \u001b[0;34m\u001b[0m\u001b[0m\n",
      "\u001b[0;32m~/Environments/test/lib/python3.9/site-packages/requests/sessions.py\u001b[0m in \u001b[0;36mrequest\u001b[0;34m(self, method, url, params, data, headers, cookies, files, auth, timeout, allow_redirects, proxies, hooks, stream, verify, cert, json)\u001b[0m\n\u001b[1;32m    540\u001b[0m         }\n\u001b[1;32m    541\u001b[0m         \u001b[0msend_kwargs\u001b[0m\u001b[0;34m.\u001b[0m\u001b[0mupdate\u001b[0m\u001b[0;34m(\u001b[0m\u001b[0msettings\u001b[0m\u001b[0;34m)\u001b[0m\u001b[0;34m\u001b[0m\u001b[0;34m\u001b[0m\u001b[0m\n\u001b[0;32m--> 542\u001b[0;31m         \u001b[0mresp\u001b[0m \u001b[0;34m=\u001b[0m \u001b[0mself\u001b[0m\u001b[0;34m.\u001b[0m\u001b[0msend\u001b[0m\u001b[0;34m(\u001b[0m\u001b[0mprep\u001b[0m\u001b[0;34m,\u001b[0m \u001b[0;34m**\u001b[0m\u001b[0msend_kwargs\u001b[0m\u001b[0;34m)\u001b[0m\u001b[0;34m\u001b[0m\u001b[0;34m\u001b[0m\u001b[0m\n\u001b[0m\u001b[1;32m    543\u001b[0m \u001b[0;34m\u001b[0m\u001b[0m\n\u001b[1;32m    544\u001b[0m         \u001b[0;32mreturn\u001b[0m \u001b[0mresp\u001b[0m\u001b[0;34m\u001b[0m\u001b[0;34m\u001b[0m\u001b[0m\n",
      "\u001b[0;32m~/Environments/test/lib/python3.9/site-packages/requests/sessions.py\u001b[0m in \u001b[0;36msend\u001b[0;34m(self, request, **kwargs)\u001b[0m\n\u001b[1;32m    653\u001b[0m \u001b[0;34m\u001b[0m\u001b[0m\n\u001b[1;32m    654\u001b[0m         \u001b[0;31m# Send the request\u001b[0m\u001b[0;34m\u001b[0m\u001b[0;34m\u001b[0m\u001b[0m\n\u001b[0;32m--> 655\u001b[0;31m         \u001b[0mr\u001b[0m \u001b[0;34m=\u001b[0m \u001b[0madapter\u001b[0m\u001b[0;34m.\u001b[0m\u001b[0msend\u001b[0m\u001b[0;34m(\u001b[0m\u001b[0mrequest\u001b[0m\u001b[0;34m,\u001b[0m \u001b[0;34m**\u001b[0m\u001b[0mkwargs\u001b[0m\u001b[0;34m)\u001b[0m\u001b[0;34m\u001b[0m\u001b[0;34m\u001b[0m\u001b[0m\n\u001b[0m\u001b[1;32m    656\u001b[0m \u001b[0;34m\u001b[0m\u001b[0m\n\u001b[1;32m    657\u001b[0m         \u001b[0;31m# Total elapsed time of the request (approximately)\u001b[0m\u001b[0;34m\u001b[0m\u001b[0;34m\u001b[0m\u001b[0m\n",
      "\u001b[0;32m~/Environments/test/lib/python3.9/site-packages/requests/adapters.py\u001b[0m in \u001b[0;36msend\u001b[0;34m(self, request, stream, timeout, verify, cert, proxies)\u001b[0m\n\u001b[1;32m    437\u001b[0m         \u001b[0;32mtry\u001b[0m\u001b[0;34m:\u001b[0m\u001b[0;34m\u001b[0m\u001b[0;34m\u001b[0m\u001b[0m\n\u001b[1;32m    438\u001b[0m             \u001b[0;32mif\u001b[0m \u001b[0;32mnot\u001b[0m \u001b[0mchunked\u001b[0m\u001b[0;34m:\u001b[0m\u001b[0;34m\u001b[0m\u001b[0;34m\u001b[0m\u001b[0m\n\u001b[0;32m--> 439\u001b[0;31m                 resp = conn.urlopen(\n\u001b[0m\u001b[1;32m    440\u001b[0m                     \u001b[0mmethod\u001b[0m\u001b[0;34m=\u001b[0m\u001b[0mrequest\u001b[0m\u001b[0;34m.\u001b[0m\u001b[0mmethod\u001b[0m\u001b[0;34m,\u001b[0m\u001b[0;34m\u001b[0m\u001b[0;34m\u001b[0m\u001b[0m\n\u001b[1;32m    441\u001b[0m                     \u001b[0murl\u001b[0m\u001b[0;34m=\u001b[0m\u001b[0murl\u001b[0m\u001b[0;34m,\u001b[0m\u001b[0;34m\u001b[0m\u001b[0;34m\u001b[0m\u001b[0m\n",
      "\u001b[0;32m~/Environments/test/lib/python3.9/site-packages/urllib3/connectionpool.py\u001b[0m in \u001b[0;36murlopen\u001b[0;34m(self, method, url, body, headers, retries, redirect, assert_same_host, timeout, pool_timeout, release_conn, chunked, body_pos, **response_kw)\u001b[0m\n\u001b[1;32m    697\u001b[0m \u001b[0;34m\u001b[0m\u001b[0m\n\u001b[1;32m    698\u001b[0m             \u001b[0;31m# Make the request on the httplib connection object.\u001b[0m\u001b[0;34m\u001b[0m\u001b[0;34m\u001b[0m\u001b[0m\n\u001b[0;32m--> 699\u001b[0;31m             httplib_response = self._make_request(\n\u001b[0m\u001b[1;32m    700\u001b[0m                 \u001b[0mconn\u001b[0m\u001b[0;34m,\u001b[0m\u001b[0;34m\u001b[0m\u001b[0;34m\u001b[0m\u001b[0m\n\u001b[1;32m    701\u001b[0m                 \u001b[0mmethod\u001b[0m\u001b[0;34m,\u001b[0m\u001b[0;34m\u001b[0m\u001b[0;34m\u001b[0m\u001b[0m\n",
      "\u001b[0;32m~/Environments/test/lib/python3.9/site-packages/urllib3/connectionpool.py\u001b[0m in \u001b[0;36m_make_request\u001b[0;34m(self, conn, method, url, timeout, chunked, **httplib_request_kw)\u001b[0m\n\u001b[1;32m    380\u001b[0m         \u001b[0;31m# Trigger any extra validation we need to do.\u001b[0m\u001b[0;34m\u001b[0m\u001b[0;34m\u001b[0m\u001b[0m\n\u001b[1;32m    381\u001b[0m         \u001b[0;32mtry\u001b[0m\u001b[0;34m:\u001b[0m\u001b[0;34m\u001b[0m\u001b[0;34m\u001b[0m\u001b[0m\n\u001b[0;32m--> 382\u001b[0;31m             \u001b[0mself\u001b[0m\u001b[0;34m.\u001b[0m\u001b[0m_validate_conn\u001b[0m\u001b[0;34m(\u001b[0m\u001b[0mconn\u001b[0m\u001b[0;34m)\u001b[0m\u001b[0;34m\u001b[0m\u001b[0;34m\u001b[0m\u001b[0m\n\u001b[0m\u001b[1;32m    383\u001b[0m         \u001b[0;32mexcept\u001b[0m \u001b[0;34m(\u001b[0m\u001b[0mSocketTimeout\u001b[0m\u001b[0;34m,\u001b[0m \u001b[0mBaseSSLError\u001b[0m\u001b[0;34m)\u001b[0m \u001b[0;32mas\u001b[0m \u001b[0me\u001b[0m\u001b[0;34m:\u001b[0m\u001b[0;34m\u001b[0m\u001b[0;34m\u001b[0m\u001b[0m\n\u001b[1;32m    384\u001b[0m             \u001b[0;31m# Py2 raises this as a BaseSSLError, Py3 raises it as socket timeout.\u001b[0m\u001b[0;34m\u001b[0m\u001b[0;34m\u001b[0m\u001b[0m\n",
      "\u001b[0;32m~/Environments/test/lib/python3.9/site-packages/urllib3/connectionpool.py\u001b[0m in \u001b[0;36m_validate_conn\u001b[0;34m(self, conn)\u001b[0m\n\u001b[1;32m   1008\u001b[0m         \u001b[0;31m# Force connect early to allow us to validate the connection.\u001b[0m\u001b[0;34m\u001b[0m\u001b[0;34m\u001b[0m\u001b[0m\n\u001b[1;32m   1009\u001b[0m         \u001b[0;32mif\u001b[0m \u001b[0;32mnot\u001b[0m \u001b[0mgetattr\u001b[0m\u001b[0;34m(\u001b[0m\u001b[0mconn\u001b[0m\u001b[0;34m,\u001b[0m \u001b[0;34m\"sock\"\u001b[0m\u001b[0;34m,\u001b[0m \u001b[0;32mNone\u001b[0m\u001b[0;34m)\u001b[0m\u001b[0;34m:\u001b[0m  \u001b[0;31m# AppEngine might not have  `.sock`\u001b[0m\u001b[0;34m\u001b[0m\u001b[0;34m\u001b[0m\u001b[0m\n\u001b[0;32m-> 1010\u001b[0;31m             \u001b[0mconn\u001b[0m\u001b[0;34m.\u001b[0m\u001b[0mconnect\u001b[0m\u001b[0;34m(\u001b[0m\u001b[0;34m)\u001b[0m\u001b[0;34m\u001b[0m\u001b[0;34m\u001b[0m\u001b[0m\n\u001b[0m\u001b[1;32m   1011\u001b[0m \u001b[0;34m\u001b[0m\u001b[0m\n\u001b[1;32m   1012\u001b[0m         \u001b[0;32mif\u001b[0m \u001b[0;32mnot\u001b[0m \u001b[0mconn\u001b[0m\u001b[0;34m.\u001b[0m\u001b[0mis_verified\u001b[0m\u001b[0;34m:\u001b[0m\u001b[0;34m\u001b[0m\u001b[0;34m\u001b[0m\u001b[0m\n",
      "\u001b[0;32m~/Environments/test/lib/python3.9/site-packages/urllib3/connection.py\u001b[0m in \u001b[0;36mconnect\u001b[0;34m(self)\u001b[0m\n\u001b[1;32m    356\u001b[0m     \u001b[0;32mdef\u001b[0m \u001b[0mconnect\u001b[0m\u001b[0;34m(\u001b[0m\u001b[0mself\u001b[0m\u001b[0;34m)\u001b[0m\u001b[0;34m:\u001b[0m\u001b[0;34m\u001b[0m\u001b[0;34m\u001b[0m\u001b[0m\n\u001b[1;32m    357\u001b[0m         \u001b[0;31m# Add certificate verification\u001b[0m\u001b[0;34m\u001b[0m\u001b[0;34m\u001b[0m\u001b[0m\n\u001b[0;32m--> 358\u001b[0;31m         \u001b[0mconn\u001b[0m \u001b[0;34m=\u001b[0m \u001b[0mself\u001b[0m\u001b[0;34m.\u001b[0m\u001b[0m_new_conn\u001b[0m\u001b[0;34m(\u001b[0m\u001b[0;34m)\u001b[0m\u001b[0;34m\u001b[0m\u001b[0;34m\u001b[0m\u001b[0m\n\u001b[0m\u001b[1;32m    359\u001b[0m         \u001b[0mhostname\u001b[0m \u001b[0;34m=\u001b[0m \u001b[0mself\u001b[0m\u001b[0;34m.\u001b[0m\u001b[0mhost\u001b[0m\u001b[0;34m\u001b[0m\u001b[0;34m\u001b[0m\u001b[0m\n\u001b[1;32m    360\u001b[0m         \u001b[0mtls_in_tls\u001b[0m \u001b[0;34m=\u001b[0m \u001b[0;32mFalse\u001b[0m\u001b[0;34m\u001b[0m\u001b[0;34m\u001b[0m\u001b[0m\n",
      "\u001b[0;32m~/Environments/test/lib/python3.9/site-packages/urllib3/connection.py\u001b[0m in \u001b[0;36m_new_conn\u001b[0;34m(self)\u001b[0m\n\u001b[1;32m    172\u001b[0m \u001b[0;34m\u001b[0m\u001b[0m\n\u001b[1;32m    173\u001b[0m         \u001b[0;32mtry\u001b[0m\u001b[0;34m:\u001b[0m\u001b[0;34m\u001b[0m\u001b[0;34m\u001b[0m\u001b[0m\n\u001b[0;32m--> 174\u001b[0;31m             conn = connection.create_connection(\n\u001b[0m\u001b[1;32m    175\u001b[0m                 \u001b[0;34m(\u001b[0m\u001b[0mself\u001b[0m\u001b[0;34m.\u001b[0m\u001b[0m_dns_host\u001b[0m\u001b[0;34m,\u001b[0m \u001b[0mself\u001b[0m\u001b[0;34m.\u001b[0m\u001b[0mport\u001b[0m\u001b[0;34m)\u001b[0m\u001b[0;34m,\u001b[0m \u001b[0mself\u001b[0m\u001b[0;34m.\u001b[0m\u001b[0mtimeout\u001b[0m\u001b[0;34m,\u001b[0m \u001b[0;34m**\u001b[0m\u001b[0mextra_kw\u001b[0m\u001b[0;34m\u001b[0m\u001b[0;34m\u001b[0m\u001b[0m\n\u001b[1;32m    176\u001b[0m             )\n",
      "\u001b[0;32m~/Environments/test/lib/python3.9/site-packages/urllib3/util/connection.py\u001b[0m in \u001b[0;36mcreate_connection\u001b[0;34m(address, timeout, source_address, socket_options)\u001b[0m\n\u001b[1;32m     71\u001b[0m         )\n\u001b[1;32m     72\u001b[0m \u001b[0;34m\u001b[0m\u001b[0m\n\u001b[0;32m---> 73\u001b[0;31m     \u001b[0;32mfor\u001b[0m \u001b[0mres\u001b[0m \u001b[0;32min\u001b[0m \u001b[0msocket\u001b[0m\u001b[0;34m.\u001b[0m\u001b[0mgetaddrinfo\u001b[0m\u001b[0;34m(\u001b[0m\u001b[0mhost\u001b[0m\u001b[0;34m,\u001b[0m \u001b[0mport\u001b[0m\u001b[0;34m,\u001b[0m \u001b[0mfamily\u001b[0m\u001b[0;34m,\u001b[0m \u001b[0msocket\u001b[0m\u001b[0;34m.\u001b[0m\u001b[0mSOCK_STREAM\u001b[0m\u001b[0;34m)\u001b[0m\u001b[0;34m:\u001b[0m\u001b[0;34m\u001b[0m\u001b[0;34m\u001b[0m\u001b[0m\n\u001b[0m\u001b[1;32m     74\u001b[0m         \u001b[0maf\u001b[0m\u001b[0;34m,\u001b[0m \u001b[0msocktype\u001b[0m\u001b[0;34m,\u001b[0m \u001b[0mproto\u001b[0m\u001b[0;34m,\u001b[0m \u001b[0mcanonname\u001b[0m\u001b[0;34m,\u001b[0m \u001b[0msa\u001b[0m \u001b[0;34m=\u001b[0m \u001b[0mres\u001b[0m\u001b[0;34m\u001b[0m\u001b[0;34m\u001b[0m\u001b[0m\n\u001b[1;32m     75\u001b[0m         \u001b[0msock\u001b[0m \u001b[0;34m=\u001b[0m \u001b[0;32mNone\u001b[0m\u001b[0;34m\u001b[0m\u001b[0;34m\u001b[0m\u001b[0m\n",
      "\u001b[0;32m/usr/lib/python3.9/socket.py\u001b[0m in \u001b[0;36mgetaddrinfo\u001b[0;34m(host, port, family, type, proto, flags)\u001b[0m\n\u001b[1;32m    952\u001b[0m     \u001b[0;31m# and socket type values to enum constants.\u001b[0m\u001b[0;34m\u001b[0m\u001b[0;34m\u001b[0m\u001b[0m\n\u001b[1;32m    953\u001b[0m     \u001b[0maddrlist\u001b[0m \u001b[0;34m=\u001b[0m \u001b[0;34m[\u001b[0m\u001b[0;34m]\u001b[0m\u001b[0;34m\u001b[0m\u001b[0;34m\u001b[0m\u001b[0m\n\u001b[0;32m--> 954\u001b[0;31m     \u001b[0;32mfor\u001b[0m \u001b[0mres\u001b[0m \u001b[0;32min\u001b[0m \u001b[0m_socket\u001b[0m\u001b[0;34m.\u001b[0m\u001b[0mgetaddrinfo\u001b[0m\u001b[0;34m(\u001b[0m\u001b[0mhost\u001b[0m\u001b[0;34m,\u001b[0m \u001b[0mport\u001b[0m\u001b[0;34m,\u001b[0m \u001b[0mfamily\u001b[0m\u001b[0;34m,\u001b[0m \u001b[0mtype\u001b[0m\u001b[0;34m,\u001b[0m \u001b[0mproto\u001b[0m\u001b[0;34m,\u001b[0m \u001b[0mflags\u001b[0m\u001b[0;34m)\u001b[0m\u001b[0;34m:\u001b[0m\u001b[0;34m\u001b[0m\u001b[0;34m\u001b[0m\u001b[0m\n\u001b[0m\u001b[1;32m    955\u001b[0m         \u001b[0maf\u001b[0m\u001b[0;34m,\u001b[0m \u001b[0msocktype\u001b[0m\u001b[0;34m,\u001b[0m \u001b[0mproto\u001b[0m\u001b[0;34m,\u001b[0m \u001b[0mcanonname\u001b[0m\u001b[0;34m,\u001b[0m \u001b[0msa\u001b[0m \u001b[0;34m=\u001b[0m \u001b[0mres\u001b[0m\u001b[0;34m\u001b[0m\u001b[0;34m\u001b[0m\u001b[0m\n\u001b[1;32m    956\u001b[0m         addrlist.append((_intenum_converter(af, AddressFamily),\n",
      "\u001b[0;31mKeyboardInterrupt\u001b[0m: "
     ]
    }
   ],
   "source": [
    "base_url = \"https://www.bbc.com/\"\n",
    "html_doc = requests.get(base_url)\n",
    "soup = BeautifulSoup(html_doc.text, 'html.parser')\n",
    "final_output= list()\n",
    "categories = soup.find_all(\"a\", href=re.compile(r\"bbc\\.com\"))[2:6]\n",
    "nested_map = dict()\n",
    "nested_map[base_url] = list()\n",
    "end_nodes = dict()\n",
    "for category in categories :\n",
    "    subcategories = crawl_sub_categories(category[\"href\"], category.span.text.lower())\n",
    "    nested_map[category[\"href\"]] = subcategories\n",
    "    nested_map[base_url].append(category[\"href\"])\n",
    "    for _ in subcategories:\n",
    "        end_nodes[_] = [] \n",
    "    time.sleep(0.5)\n",
    "nested_map.update(end_nodes)\n",
    "print(json.dumps(nested_map, indent = 2))\n",
    "\n",
    "\n"
   ]
  },
  {
   "cell_type": "code",
   "execution_count": 28,
   "id": "ae6b7f86-5383-4ede-9df0-60d19e82fa1e",
   "metadata": {},
   "outputs": [
    {
     "data": {
      "text/plain": [
       "['https://www.bbc.com/news/world-60525350',\n",
       " 'https://www.bbc.com/news/coronavirus',\n",
       " 'https://www.bbc.com/news/science-environment-56837908',\n",
       " 'https://www.bbc.com/news/world']"
      ]
     },
     "execution_count": 28,
     "metadata": {},
     "output_type": "execute_result"
    }
   ],
   "source": [
    "crawl_sub_categories(\"https://www.bbc.com/news\", \"news\")"
   ]
  },
  {
   "cell_type": "code",
   "execution_count": 42,
   "id": "_vIYUv2KYas4",
   "metadata": {
    "colab": {
     "base_uri": "https://localhost:8080/"
    },
    "id": "_vIYUv2KYas4",
    "outputId": "5624f5d3-0aab-462d-d775-b1b7a614218d"
   },
   "outputs": [
    {
     "data": {
      "text/plain": [
       "37"
      ]
     },
     "execution_count": 42,
     "metadata": {},
     "output_type": "execute_result"
    }
   ],
   "source": [
    "# print(json.dumps(nested_map, indent = 2))\n",
    "len(nested_map.keys())"
   ]
  },
  {
   "cell_type": "code",
   "execution_count": null,
   "id": "0d702be5-d9de-4bd1-b745-a667366d97bd",
   "metadata": {
    "id": "0d702be5-d9de-4bd1-b745-a667366d97bd"
   },
   "outputs": [],
   "source": [
    "def get_headlines(link):\n",
    "    html_doc = requests.get(link)\n",
    "    soup = BeautifulSoup(html_doc.text, \"html.parser\")\n",
    "    hey = soup.find_all(\"h3\")\n",
    "    headlines = []\n",
    "    for h in hey[1:15]:\n",
    "        headlines.append(h.text.strip())\n",
    "    return headlines\n"
   ]
  },
  {
   "cell_type": "code",
   "execution_count": 6,
   "id": "7f333b4b-25b0-4656-9dd4-59ae8180258c",
   "metadata": {
    "colab": {
     "base_uri": "https://localhost:8080/"
    },
    "id": "7f333b4b-25b0-4656-9dd4-59ae8180258c",
    "outputId": "f18edae9-1c7b-472d-c9f3-0b5421fc9c23"
   },
   "outputs": [
    {
     "name": "stdout",
     "output_type": "stream",
     "text": [
      "https://www.bbc.com/news/uk-60997622\n"
     ]
    }
   ],
   "source": [
    "base_url = \"https://www.bbc.com\"\n",
    "\n",
    "category = \"news\"\n",
    "sub_category = \"Climate\"\n",
    "category_url = f\"{base_url}/{category}\"\n",
    "subcategory_url = nested_map[category_url][0]\n",
    "\n",
    "print(subcategory_url)\n",
    "get_headlines(subcategory_url)"
   ]
  },
  {
   "cell_type": "code",
   "execution_count": 20,
   "id": "6RpfnUbRVjxw",
   "metadata": {
    "colab": {
     "base_uri": "https://localhost:8080/"
    },
    "id": "6RpfnUbRVjxw",
    "outputId": "8d2b2c4c-e393-491b-efe2-113d5ffa944a"
   },
   "outputs": [],
   "source": [
    "def bfs(graph, root):\n",
    "    visited = set()\n",
    "    return_map = dict()\n",
    "    queue = [root]\n",
    "    subcategories_link = set()\n",
    "    visited.add(root)\n",
    "    while queue:\n",
    "        link = queue.pop(0)\n",
    "        \n",
    "        for child in graph.get(link):\n",
    "            queue.append(child)\n",
    "            if child not in visited :\n",
    "                visited.add(child)\n",
    "                queue.append(child)\n",
    "        if not graph.get(link):\n",
    "            subcategories_link.add(link)\n",
    "    for link in subcategories_link:\n",
    "        headlines = get_headlines(link)\n",
    "        if headlines:\n",
    "            return_map[link] = get_headlines(link)\n",
    "            print(link, return_map[link])\n",
    "    return return_map"
   ]
  },
  {
   "cell_type": "code",
   "execution_count": 21,
   "id": "mxgtie1bfuUn",
   "metadata": {
    "colab": {
     "base_uri": "https://localhost:8080/",
     "height": 289
    },
    "id": "mxgtie1bfuUn",
    "outputId": "cb97e6fa-4fd6-422a-9615-6bea9bef7d60"
   },
   "outputs": [
    {
     "name": "stdout",
     "output_type": "stream",
     "text": [
      "https://www.bbc.com/news/the_reporters ['The heavy losses of an elite Russian regiment', 'UK farmers call for toxic weedkiller ban', 'Secret hit squad linked to murdered Putin rival', 'The priest shot at a checkpoint', \"Defiant troops to Russians: 'Go home while you're alive'\", \"What's driving Putin? Agents seek to get inside his head\", 'Putin has redrawn the world - but not the way he wanted', 'The heavy losses of an elite Russian regiment', 'UK farmers call for toxic weedkiller ban', 'Secret hit squad linked to murdered Putin rival', 'The priest shot at a checkpoint', \"Defiant troops to Russians: 'Go home while you're alive'\", \"What's driving Putin? Agents seek to get inside his head\", 'Putin has redrawn the world - but not the way he wanted']\n",
      "https://www.bbc.com/sport/american-football ['Jaguars to play at Wembley until 2024', \"Browns' Watson denies sexual assault claims\", 'Browns defend signing Texans quarterback Watson', \"Broncos confirm Wilson & Miller heads to Buffalo - NFL's biggest free-agency deals of 2022\", 'Sportshour podcast: Oleksiej Zorin - the Ukrainian American Football player helping the people of Kyiv', 'The Sports Desk podcast: Brady’s U-turn - why do sportspeople find it so hard to retire?', 'Rodgers signs contract extension with Green Bay Packers', \"'I'm coming back' - NFL great Brady makes retirement U-turn\", 'Rodgers to stay with Packers but denies signing record-breaking deal', \"Falcons' Ridley given a year's ban for betting on games\", 'Packers to play first international game in London in 2022', 'Steelers appoint coach who is suing NFL', \"'He set the standard' - Kupp dedicates Rams' Super Bowl win to late Bryant\", \"Meet the Rams' star-studded roster built in Super Bowl gamble\"]\n",
      "https://www.bbc.com/news/world ['US and EU to ratchet up sanctions against Russia', 'An alleged execution on a street corner in Bucha', 'US and EU set to impose further sanctions on Russia', \"'I saw a Russian soldier shoot my father dead'\", 'Zelensky tells UN of horrors of Russian invasion', 'EU targets Russian coal and ships in new sanctions', 'Ivanka Trump testifies to Capitol riot committee', 'US and EU to ratchet up sanctions against Russia', 'An alleged execution on a street corner in Bucha', 'US and EU set to impose further sanctions on Russia', \"'I saw a Russian soldier shoot my father dead'\", 'Zelensky tells UN of horrors of Russian invasion', 'EU targets Russian coal and ships in new sanctions', 'Ivanka Trump testifies to Capitol riot committee']\n",
      "https://www.bbc.com/sport/swimming ['What does Simmonds think about new dwarfism drug?', 'British Swimming chief takes over at UK Athletics', \"ISL's fourth season postponed to 2023\", 'Twins inspired by Paralympian clubmates', \"Florida governor DeSantis rejects transgender swimmer Thomas' victory\", 'Sportshour podcast: Ukraine swimmer Grigoriev on rescuing his family from Mariupol', \"Future of women's sport 'fragile' - Coe's warning over transgender athletes debate\", 'Transgender swimmer Thomas wins US collegiate title', \"'I hope my story shows it's possible to be a mother and an athlete'\", \"Swimming teacher 'felt like a black unicorn'\", 'Manchester to host 2023 Para World Championships', 'Sportshour podcast: Ukraine Olympic swimmer Govorov on war with Russia', 'US unveils new policy for transgender swimmers', \"I thought I had lost an eye - GB's Pardoe on being forced out of marathon swim\"]\n",
      "https://www.bbc.com/sport/basketball ['Warriors beat Jazz to secure play-off spot', \"LA Lakers lose 'must-win' game against Pelicans\", \"Antetokounmpo becomes Bucks' leading scorer\", 'Phoenix Suns beat Golden State to equal win record', 'Antetokounmpo stars as Bucks beat 76ers', 'Irving makes home return after ban on unvaccinated lifted but Nets beaten', 'Booker hits season-high haul as Suns beat Nuggets', 'Ayton leads Suns to sixth straight win', \"Detained WNBA star Griner in 'good condition'\", \"'We needed that one' - James leads Lakers to win over Cavs\", 'Phoenix shock Lions to win BBL Trophy', 'Lions beat Sevenoaks to win WBBL Trophy', 'James becomes second all-time leading NBA scorer', \"LeBron James' changing shape of NBA greatness\"]\n",
      "https://www.bbc.com/sport/60935376 ['Liverpool take two-goal advantage in Benfica tie', 'As of now I am going to play Masters - Woods', 'How did breaking one rule change his entire life?', \"Will the celebrities endure Wim Hof's training?\", 'How will the energy crisis be solved?', \"I don't show up unless I think I can win - Woods\", \"'Man City get their hands dirty to edge Atletico'\", 'The Hundred Draft 2022 - big names sign up for 100-ball competition', \"Woods' Augusta return 'stuff of sporting legend'\", \"'They threatened to petrol bomb my house'\", \"'This should be England's slap in the face'\", 'MOTD Top 10: Trent Alexander-Arnold - assist king', \"Why Liverpool are '100% ready' for WSL return\", \"Watch Immelman's 'perfect' shot to win at Augusta\"]\n",
      "https://www.bbc.com/reel/playlists ['Naked Truth', 'Obsessions', 'The Truth of the Matter', 'A Taste of the City', 'DHL: Connecting Stories', 'Black History Month', 'Russian Sagas', 'Follow the Food: Series 3', 'Living Climate Change', 'The Evolution of Beauty']\n"
     ]
    },
    {
     "data": {
      "text/plain": [
       "{'https://www.bbc.com/news/the_reporters': ['The heavy losses of an elite Russian regiment',\n",
       "  'UK farmers call for toxic weedkiller ban',\n",
       "  'Secret hit squad linked to murdered Putin rival',\n",
       "  'The priest shot at a checkpoint',\n",
       "  \"Defiant troops to Russians: 'Go home while you're alive'\",\n",
       "  \"What's driving Putin? Agents seek to get inside his head\",\n",
       "  'Putin has redrawn the world - but not the way he wanted',\n",
       "  'The heavy losses of an elite Russian regiment',\n",
       "  'UK farmers call for toxic weedkiller ban',\n",
       "  'Secret hit squad linked to murdered Putin rival',\n",
       "  'The priest shot at a checkpoint',\n",
       "  \"Defiant troops to Russians: 'Go home while you're alive'\",\n",
       "  \"What's driving Putin? Agents seek to get inside his head\",\n",
       "  'Putin has redrawn the world - but not the way he wanted'],\n",
       " 'https://www.bbc.com/sport/american-football': ['Jaguars to play at Wembley until 2024',\n",
       "  \"Browns' Watson denies sexual assault claims\",\n",
       "  'Browns defend signing Texans quarterback Watson',\n",
       "  \"Broncos confirm Wilson & Miller heads to Buffalo - NFL's biggest free-agency deals of 2022\",\n",
       "  'Sportshour podcast: Oleksiej Zorin - the Ukrainian American Football player helping the people of Kyiv',\n",
       "  'The Sports Desk podcast: Brady’s U-turn - why do sportspeople find it so hard to retire?',\n",
       "  'Rodgers signs contract extension with Green Bay Packers',\n",
       "  \"'I'm coming back' - NFL great Brady makes retirement U-turn\",\n",
       "  'Rodgers to stay with Packers but denies signing record-breaking deal',\n",
       "  \"Falcons' Ridley given a year's ban for betting on games\",\n",
       "  'Packers to play first international game in London in 2022',\n",
       "  'Steelers appoint coach who is suing NFL',\n",
       "  \"'He set the standard' - Kupp dedicates Rams' Super Bowl win to late Bryant\",\n",
       "  \"Meet the Rams' star-studded roster built in Super Bowl gamble\"],\n",
       " 'https://www.bbc.com/news/world': ['US and EU to ratchet up sanctions against Russia',\n",
       "  'An alleged execution on a street corner in Bucha',\n",
       "  'US and EU set to impose further sanctions on Russia',\n",
       "  \"'I saw a Russian soldier shoot my father dead'\",\n",
       "  'Zelensky tells UN of horrors of Russian invasion',\n",
       "  'EU targets Russian coal and ships in new sanctions',\n",
       "  'Ivanka Trump testifies to Capitol riot committee',\n",
       "  'US and EU to ratchet up sanctions against Russia',\n",
       "  'An alleged execution on a street corner in Bucha',\n",
       "  'US and EU set to impose further sanctions on Russia',\n",
       "  \"'I saw a Russian soldier shoot my father dead'\",\n",
       "  'Zelensky tells UN of horrors of Russian invasion',\n",
       "  'EU targets Russian coal and ships in new sanctions',\n",
       "  'Ivanka Trump testifies to Capitol riot committee'],\n",
       " 'https://www.bbc.com/sport/swimming': ['What does Simmonds think about new dwarfism drug?',\n",
       "  'British Swimming chief takes over at UK Athletics',\n",
       "  \"ISL's fourth season postponed to 2023\",\n",
       "  'Twins inspired by Paralympian clubmates',\n",
       "  \"Florida governor DeSantis rejects transgender swimmer Thomas' victory\",\n",
       "  'Sportshour podcast: Ukraine swimmer Grigoriev on rescuing his family from Mariupol',\n",
       "  \"Future of women's sport 'fragile' - Coe's warning over transgender athletes debate\",\n",
       "  'Transgender swimmer Thomas wins US collegiate title',\n",
       "  \"'I hope my story shows it's possible to be a mother and an athlete'\",\n",
       "  \"Swimming teacher 'felt like a black unicorn'\",\n",
       "  'Manchester to host 2023 Para World Championships',\n",
       "  'Sportshour podcast: Ukraine Olympic swimmer Govorov on war with Russia',\n",
       "  'US unveils new policy for transgender swimmers',\n",
       "  \"I thought I had lost an eye - GB's Pardoe on being forced out of marathon swim\"],\n",
       " 'https://www.bbc.com/sport/basketball': ['Warriors beat Jazz to secure play-off spot',\n",
       "  \"LA Lakers lose 'must-win' game against Pelicans\",\n",
       "  \"Antetokounmpo becomes Bucks' leading scorer\",\n",
       "  'Phoenix Suns beat Golden State to equal win record',\n",
       "  'Antetokounmpo stars as Bucks beat 76ers',\n",
       "  'Irving makes home return after ban on unvaccinated lifted but Nets beaten',\n",
       "  'Booker hits season-high haul as Suns beat Nuggets',\n",
       "  'Ayton leads Suns to sixth straight win',\n",
       "  \"Detained WNBA star Griner in 'good condition'\",\n",
       "  \"'We needed that one' - James leads Lakers to win over Cavs\",\n",
       "  'Phoenix shock Lions to win BBL Trophy',\n",
       "  'Lions beat Sevenoaks to win WBBL Trophy',\n",
       "  'James becomes second all-time leading NBA scorer',\n",
       "  \"LeBron James' changing shape of NBA greatness\"],\n",
       " 'https://www.bbc.com/sport/60935376': ['Liverpool take two-goal advantage in Benfica tie',\n",
       "  'As of now I am going to play Masters - Woods',\n",
       "  'How did breaking one rule change his entire life?',\n",
       "  \"Will the celebrities endure Wim Hof's training?\",\n",
       "  'How will the energy crisis be solved?',\n",
       "  \"I don't show up unless I think I can win - Woods\",\n",
       "  \"'Man City get their hands dirty to edge Atletico'\",\n",
       "  'The Hundred Draft 2022 - big names sign up for 100-ball competition',\n",
       "  \"Woods' Augusta return 'stuff of sporting legend'\",\n",
       "  \"'They threatened to petrol bomb my house'\",\n",
       "  \"'This should be England's slap in the face'\",\n",
       "  'MOTD Top 10: Trent Alexander-Arnold - assist king',\n",
       "  \"Why Liverpool are '100% ready' for WSL return\",\n",
       "  \"Watch Immelman's 'perfect' shot to win at Augusta\"],\n",
       " 'https://www.bbc.com/reel/playlists': ['Naked Truth',\n",
       "  'Obsessions',\n",
       "  'The Truth of the Matter',\n",
       "  'A Taste of the City',\n",
       "  'DHL: Connecting Stories',\n",
       "  'Black History Month',\n",
       "  'Russian Sagas',\n",
       "  'Follow the Food: Series 3',\n",
       "  'Living Climate Change',\n",
       "  'The Evolution of Beauty']}"
      ]
     },
     "execution_count": 21,
     "metadata": {},
     "output_type": "execute_result"
    }
   ],
   "source": [
    "bfs(nested_map, \"https://www.bbc.com/\")"
   ]
  }
 ],
 "metadata": {
  "colab": {
   "collapsed_sections": [],
   "name": "bfs_web_crawler.ipynb",
   "provenance": []
  },
  "kernelspec": {
   "display_name": "test",
   "language": "python",
   "name": "test"
  },
  "language_info": {
   "codemirror_mode": {
    "name": "ipython",
    "version": 3
   },
   "file_extension": ".py",
   "mimetype": "text/x-python",
   "name": "python",
   "nbconvert_exporter": "python",
   "pygments_lexer": "ipython3",
   "version": "3.9.10"
  }
 },
 "nbformat": 4,
 "nbformat_minor": 5
}
